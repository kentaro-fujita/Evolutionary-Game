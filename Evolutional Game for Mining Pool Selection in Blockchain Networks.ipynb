{
 "cells": [
  {
   "cell_type": "code",
   "execution_count": 1,
   "metadata": {},
   "outputs": [],
   "source": [
    "import math\n",
    "import random\n",
    "import numpy as np\n",
    "from tqdm import tqdm\n",
    "import matplotlib.pyplot as plt\n",
    "\n",
    "%matplotlib inline"
   ]
  },
  {
   "cell_type": "code",
   "execution_count": 16,
   "metadata": {},
   "outputs": [],
   "source": [
    "N = 5000 # individual miners\n",
    "M = 2 # mining pools\n",
    "MAX_COUNT = 600 #max time counter"
   ]
  },
  {
   "cell_type": "code",
   "execution_count": 3,
   "metadata": {},
   "outputs": [],
   "source": [
    "# propability for pool i to mine a block\n",
    "def P_mine(x, w, i):\n",
    "    _sum = 0\n",
    "    for j in range(M):\n",
    "        _sum += x[j]*w[j]\n",
    "    return w[i]*x[i]/_sum"
   ]
  },
  {
   "cell_type": "code",
   "execution_count": 4,
   "metadata": {},
   "outputs": [],
   "source": [
    "# propability of orphaning\n",
    "def P_orphan(s, param=0.005, T=600):\n",
    "    return 1 - math.exp(-1*param*s/T)"
   ]
  },
  {
   "cell_type": "code",
   "execution_count": 18,
   "metadata": {},
   "outputs": [],
   "source": [
    "# propability for pool i to win a block\n",
    "def P_win(x, w, s, i, param, T=600):\n",
    "    return P_mine(x,w,i) * math.exp(-1*param*s[i]/T)"
   ]
  },
  {
   "cell_type": "code",
   "execution_count": 19,
   "metadata": {},
   "outputs": [],
   "source": [
    "# a miner's expected payoff in pool i\n",
    "def y(x, w, s, i, param, R=1000, ro=2, T=600, p=0.01):\n",
    "    _sum = 0\n",
    "    for j in range(M):\n",
    "        _sum += x[j]*w[j]\n",
    "    return  (R + ro*s[i]) / (N * x[i]) * P_win(x,w,s,i,param) - p*w[i]\n",
    "\n",
    "# average payoff of the induvidual miner in N\n",
    "def ave_y(x, w, s, param):\n",
    "    _sum = 0\n",
    "    for i in range(M):\n",
    "        _sum += y(x,w,s,i, param) * x[i]\n",
    "    return _sum"
   ]
  },
  {
   "cell_type": "code",
   "execution_count": 7,
   "metadata": {},
   "outputs": [],
   "source": [
    "# growth rate of size of pool iwith respect time t\n",
    "def calc_dx1(x, w, s, i):\n",
    "    return x[i] * (y(x,w,s,i,0.005) - ave_y(x,w,s,0.005))\n",
    "\n",
    "def calc_dx2(x, w, s, i, R=1000, ro=2, param=0.005, T=600, p=0.01):\n",
    "    a = (R + ro*s[i])*w[i]*math.exp(-1*param*s[i]/T)\n",
    "    b = (R + ro*s[1-i])*w[1-i]*math.exp(-1*param*s[1-i]/T)\n",
    "    \n",
    "    x = x[i] * (1 - x[i]) * ((a - b) / (N*(w[0]*x[0] + w[1]*x[1])) - p*(w[i]-w[1-i]))\n",
    "    return x"
   ]
  },
  {
   "cell_type": "code",
   "execution_count": 8,
   "metadata": {},
   "outputs": [],
   "source": [
    "# the Nash Equilibria of the evolution game\n",
    "def calc_x_NE(w, s, param, i, R=1000, ro=2, T=600, p=0.01):\n",
    "    a = (R + ro*s[i])*w[i]*math.exp(-1*param*s[i]/T)\n",
    "    b = (R + ro*s[1-i])*w[1-i]*math.exp(-1*param*s[1-i]/T)\n",
    "    \n",
    "    x = (a - b) / N / p / (w[i] - w[1-i])**2 - w[1-i] / (w[i] - w[1-i])  \n",
    "    return x"
   ]
  },
  {
   "cell_type": "code",
   "execution_count": null,
   "metadata": {},
   "outputs": [
    {
     "name": "stderr",
     "output_type": "stream",
     "text": [
      " 94%|█████████▍| 567/600 [00:40<00:02, 15.14it/s]"
     ]
    }
   ],
   "source": [
    "def two_mining_pool():\n",
    "    # initialize parameter \n",
    "    x = [[0.75, 0.25]] # population states\n",
    "    s = [100, 100] # block size\n",
    "    w = [30, 20] # hash rate\n",
    "    mi = [] # miner i's  mining pool selection\n",
    "    \n",
    "    # miner i randomly seslects a mining pool\n",
    "    for i in range(N): \n",
    "        if i < int(N*x[0][0]):\n",
    "            mi.append(0)\n",
    "        else:\n",
    "            mi.append(1)\n",
    "    \n",
    "    # calc the Nash Equilibria of the evolution game\n",
    "#     X1_NE = calc_x_NE(w, s, 0.005, 0)\n",
    "#     X2_NE = calc_x_NE(w, s, 0.005, 1)\n",
    "#     print(X1_NE, X2_NE)\n",
    "    \n",
    "    for t in tqdm(range(MAX_COUNT)):\n",
    "#         dx = []\n",
    "#         for i in range(M):\n",
    "#             dx.append(calc_dx2(x[t], w, s, i))\n",
    "#         x.append([x[t][0] + dx[0], x[t][1] + dx[1]])\n",
    "        \n",
    "        for i in range(N):\n",
    "            # random select mining pool\n",
    "            j = random.randint(0, M-1)\n",
    "            \n",
    "            # probability of whether to switch from pool i to pool j\n",
    "            p = x[t][j] * max(y(x[t],w,s,j, 0.005)-y(x[t],w,s,mi[i], 0.005), 0)\n",
    "            \n",
    "            if random.uniform(0,1)<=p:\n",
    "                mi[i]=j\n",
    "        x.append([np.sum(np.array(mi)==0)/N, np.sum(np.array(mi)==1)/N])\n",
    "    \n",
    "    # show figure 1(a)\n",
    "    plt.title(\"figure 1(a)\")\n",
    "    plt.plot(range(MAX_COUNT), np.array(x)[0:MAX_COUNT,0:1], label='x1')\n",
    "    plt.plot(range(MAX_COUNT), np.array(x)[0:MAX_COUNT,1:2], label='x2')\n",
    "    plt.legend()\n",
    "    plt.ylim(0,1)\n",
    "    plt.xlim(0,MAX_COUNT)\n",
    "    plt.xlabel(\"Time t\")\n",
    "    plt.ylabel(\"Population fraction\")\n",
    "    plt.show()\n",
    "    \n",
    "    # show figure1(b)\n",
    "    dx1 = np.zeros((19,19))\n",
    "    dx2 = np.zeros((19,19))\n",
    "    x1 = np.arange(1, 20)/20\n",
    "    x2 = np.arange(1, 20)/20\n",
    "    for i1, x_1 in enumerate(x1):\n",
    "        for i2, x_2 in enumerate(x2):\n",
    "            dx1[i2,i1] = calc_dx2([x_1,1- x_1], w, s, 0)\n",
    "            dx2[i2,i1] = calc_dx2([1-x_2, x_2], w, s, 1)\n",
    "    \n",
    "    plt.title(\"figure 1(b)\")\n",
    "    plt.quiver(x2, x1, dx1, dx2)\n",
    "    plt.xlabel(\"Population fraction x1\")\n",
    "    plt.ylabel(\"Population fraction x2\")\n",
    "    plt.show()\n",
    "    \n",
    "    # show figure 2(a) (b)\n",
    "    x1_NE = []\n",
    "    x2_NE = []\n",
    "    ave_NE = []\n",
    "    params = np.arange(100)/100\n",
    "    for param in params :\n",
    "        NE1 = calc_x_NE(w, s, param, 0)\n",
    "        NE2 = calc_x_NE(w, s, param, 1)\n",
    "        x1_NE.append(NE1)\n",
    "        x2_NE.append(NE2)\n",
    "        ave_NE.append(ave_y([NE1, NE2], w, s, param))\n",
    "    \n",
    "    plt.title(\"figure 2(a)\")\n",
    "    plt.plot(params, x1_NE, label=\"x1\")\n",
    "    plt.plot(params, x2_NE, label=\"x2\")\n",
    "    plt.xlabel(\"Delay coefficinet 1/γc + b\")\n",
    "    plt.ylabel(\"Population state at the NE\")\n",
    "    plt.xlim(0, 1)\n",
    "    plt.ylim(0, 1)\n",
    "    plt.legend()\n",
    "    plt.show()\n",
    "    \n",
    "    # incorrect!!\n",
    "    plt.title(\"figure 2(b)\")\n",
    "    plt.plot(params, ave_NE)\n",
    "    plt.xlabel(\"Delay coefficinet 1/γc + b\")\n",
    "    plt.ylabel(\"Average payoff at the NE\")\n",
    "    plt.xlim(0, 1)\n",
    "    plt.ylim(-0.1, 0.1)\n",
    "    plt.show()\n",
    "    \n",
    "two_mining_pool()"
   ]
  },
  {
   "cell_type": "code",
   "execution_count": null,
   "metadata": {},
   "outputs": [],
   "source": [
    "N = 10000 # individual miners\n",
    "M = 4 # mining pools\n",
    "MAX_COUNT = 1000 #max time counter"
   ]
  },
  {
   "cell_type": "code",
   "execution_count": null,
   "metadata": {},
   "outputs": [],
   "source": [
    "# miner i randomly seslects a mining pool\n",
    "def initial_select_pool(x):\n",
    "    mi = []\n",
    "    for i in range(M):\n",
    "        for j in range(int(N*x[i])):\n",
    "            mi.append(i)\n",
    "\n",
    "    return mi"
   ]
  },
  {
   "cell_type": "code",
   "execution_count": null,
   "metadata": {},
   "outputs": [],
   "source": [
    "def calc_dx2(x, w, s, i, R=1000, ro=2, param=0.005, T=600, p=0.01):\n",
    "    a = (R + ro*s[i])*w[i]*math.exp(-1*param*s[i]/T)\n",
    "    b = (R + ro*s[1-i])*w[1-i]*math.exp(-1*param*s[1-i]/T)\n",
    "    \n",
    "    x = x[i] * (1 - x[i]) * ((a - b) / (N*(w[0]*x[0] + w[1]*x[1])) - p*(w[i]-w[1-i]))\n",
    "    return x"
   ]
  },
  {
   "cell_type": "code",
   "execution_count": null,
   "metadata": {},
   "outputs": [],
   "source": [
    "def four_mining_pool():\n",
    "    # initialize parameters\n",
    "    x = [[0.25, 0.25, 0.25, 0.25]]\n",
    "    s = [100, 100, 100, 100]\n",
    "    w = [10, 20, 30, 40]\n",
    "    mi = initial_select_pool(x[0])\n",
    "    y_t = []\n",
    "    \n",
    "    for t in tqdm(range(MAX_COUNT)):\n",
    "        dx = []\n",
    "        dy = []\n",
    "        for i in range(M):\n",
    "            #dx.append(x[t][i] + calc_dx2(x[t], w, s, i))\n",
    "            dx.append(x[t][i] + calc_dx1(x[t], w, s, i))\n",
    "            dy.append(y(x[t], w, s, i, 0.005))\n",
    "        \n",
    "        #x.append(dx)\n",
    "        y_t.append(dy)\n",
    "        \n",
    "        for i in range(N):\n",
    "            # random select mining pool\n",
    "            j = random.randint(0, M-1)\n",
    "            \n",
    "            # probability of whether to switch from pool i to pool j\n",
    "            p = x[t][j] * max(y(x[t],w,s,j,0.005)-y(x[t],w,s,mi[i],0.005), 0)\n",
    "            \n",
    "            if random.uniform(0,1) <= p:\n",
    "                mi[i]=j\n",
    "                \n",
    "        dx = []\n",
    "        for i in range(M):\n",
    "            dx.append(np.sum(np.array(mi)==i)/N)\n",
    "        x.append(dx)\n",
    "        \n",
    "    # show figure 3(a)\n",
    "    plt.title(\"figure 3(a)\")\n",
    "    for i in range(M):\n",
    "        plt.plot(range(MAX_COUNT), np.array(x)[0:MAX_COUNT,i:i+1], label='x'+str(i+1))\n",
    "    plt.legend()\n",
    "    plt.ylim(0,1)\n",
    "    plt.xlim(0,MAX_COUNT)\n",
    "    plt.xlabel(\"Time t\")\n",
    "    plt.ylabel(\"Population fraction\")\n",
    "    plt.show()\n",
    "    \n",
    "    # show figure 3(b)\n",
    "    plt.title(\"figure 3(b)\")\n",
    "    for i in range(M):\n",
    "        plt.plot(range(MAX_COUNT), np.array(y_t)[0:MAX_COUNT, i:i+1], label='x'+str(i+1))\n",
    "    plt.xlim(0,MAX_COUNT)\n",
    "    plt.xlabel(\"Time t\")\n",
    "    plt.ylabel(\"Payoff of induvidual miner\")\n",
    "    plt.legend()\n",
    "    plt.show()\n",
    "    \n",
    "four_mining_pool()"
   ]
  },
  {
   "cell_type": "code",
   "execution_count": null,
   "metadata": {},
   "outputs": [],
   "source": []
  }
 ],
 "metadata": {
  "kernelspec": {
   "display_name": "Python 3",
   "language": "python",
   "name": "python3"
  },
  "language_info": {
   "codemirror_mode": {
    "name": "ipython",
    "version": 3
   },
   "file_extension": ".py",
   "mimetype": "text/x-python",
   "name": "python",
   "nbconvert_exporter": "python",
   "pygments_lexer": "ipython3",
   "version": "3.7.3"
  }
 },
 "nbformat": 4,
 "nbformat_minor": 2
}
